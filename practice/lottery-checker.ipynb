{
 "cells": [
  {
   "cell_type": "markdown",
   "metadata": {},
   "source": [
    "# lottery-checker\n",
    "\n",
    "Use the \"Run\" button to execute the code."
   ]
  },
  {
   "cell_type": "code",
   "execution_count": 1,
   "metadata": {},
   "outputs": [
    {
     "name": "stdout",
     "output_type": "stream",
     "text": [
      "\n",
      "Please enter a number from 1-10: 2\n",
      "\n",
      "Please enter a number from 1-10: 5\n",
      "\n",
      "Please enter a number from 1-10: 11\n",
      "\n",
      "Invalid number,try again!\n",
      "\n",
      "Please enter a number from 1-10: 6\n",
      "\n",
      "Please enter a number from 1-10: 6\n",
      "\n",
      "Number already staked!\n",
      "\n",
      "Please enter a number from 1-10: 3\n",
      "\n",
      "Please enter a number from 1-10: 9\n",
      "\n",
      "You staked 4 numbers correctly.\n"
     ]
    }
   ],
   "source": [
    "import random\n",
    "\n",
    "def lottery_numbers():\n",
    "    # create empty lottery list\n",
    "    lottery_no = []\n",
    "    # we want to generate 5 numbers\n",
    "    for i in range(5):\n",
    "        # generate a random number from 1 to 10\n",
    "        number = random.randint(1,10)\n",
    "        while number in lottery_no:\n",
    "            # if number exists generate another one\n",
    "            number = random.randint(1,10)\n",
    "        # add the generated number to the list\n",
    "        lottery_no.append(number)\n",
    "    return lottery_no\n",
    "\n",
    "def stake_numbers():\n",
    "    stake_no = [] # create empty input empty list\n",
    "    # we want to inout 5 numbers\n",
    "    for i in range(5):\n",
    "        number = int(input(\"\\nPlease enter a number from 1-10: \"))\n",
    "        while (number in stake_no or number <1 or number >10):\n",
    "            # if input is existing reject it and ask for another one.\n",
    "            if(number in stake_no):\n",
    "                print(\"\\nNumber already staked!\")\n",
    "                number = int(input(\"\\nPlease enter a number from 1-10: \"))\n",
    "            # if input less than 1 or greater than 10, reject it also and ask for another one.\n",
    "            else: \n",
    "                print(\"\\nInvalid number,try again!\")\n",
    "                number = int(input(\"\\nPlease enter a number from 1-10: \"))\n",
    "        # add the input number to the list\n",
    "        stake_no.append(number)\n",
    "    return stake_no\n",
    "\n",
    "def check_lottery(lottery_no, stake_no):\n",
    "    counter = 0\n",
    "    for number in stake_no:\n",
    "        # if stake number is in lottery number, then that's a hot\n",
    "        if number in lottery_no:\n",
    "            counter += 1\n",
    "    # return total number of hits.\n",
    "    return counter\n",
    "\n",
    "def main():\n",
    "    # call all the functions together and accordingly.\n",
    "    lottery_no = lottery_numbers()\n",
    "    stake_no = stake_numbers()\n",
    "    counter = check_lottery(lottery_no, stake_no)\n",
    "    # print total number of hits.\n",
    "    print(\"\\nYou staked\", str(counter), \"numbers correctly.\")\n",
    "\n",
    "main() # calling our main function to run\n"
   ]
  },
  {
   "cell_type": "code",
   "execution_count": null,
   "metadata": {},
   "outputs": [],
   "source": []
  }
 ],
 "metadata": {
  "kernelspec": {
   "display_name": "Python 3 (ipykernel)",
   "language": "python",
   "name": "python3"
  },
  "language_info": {
   "codemirror_mode": {
    "name": "ipython",
    "version": 3
   },
   "file_extension": ".py",
   "mimetype": "text/x-python",
   "name": "python",
   "nbconvert_exporter": "python",
   "pygments_lexer": "ipython3",
   "version": "3.9.7"
  }
 },
 "nbformat": 4,
 "nbformat_minor": 2
}
