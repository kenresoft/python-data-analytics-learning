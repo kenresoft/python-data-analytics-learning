{
 "cells": [
  {
   "cell_type": "markdown",
   "id": "a2241fdc",
   "metadata": {},
   "source": [
    "##### times_table()"
   ]
  },
  {
   "cell_type": "code",
   "execution_count": 16,
   "id": "40570ff4",
   "metadata": {},
   "outputs": [],
   "source": [
    "def times_table(number,lenght = 10):\n",
    "    for times in range(1,lenght+ 1):\n",
    "        print('{} x {} : '.format(number,times), number* times)"
   ]
  },
  {
   "cell_type": "code",
   "execution_count": 17,
   "id": "85fe18c6",
   "metadata": {},
   "outputs": [
    {
     "name": "stdout",
     "output_type": "stream",
     "text": [
      "5 x 1 :  5\n",
      "5 x 2 :  10\n",
      "5 x 3 :  15\n",
      "5 x 4 :  20\n",
      "5 x 5 :  25\n",
      "5 x 6 :  30\n",
      "5 x 7 :  35\n",
      "5 x 8 :  40\n",
      "5 x 9 :  45\n",
      "5 x 10 :  50\n",
      "None\n"
     ]
    }
   ],
   "source": [
    "print(times_table(5,10))"
   ]
  },
  {
   "cell_type": "code",
   "execution_count": 18,
   "id": "f1a82b03",
   "metadata": {},
   "outputs": [
    {
     "name": "stdout",
     "output_type": "stream",
     "text": [
      "100 x 1 :  100\n",
      "100 x 2 :  200\n",
      "100 x 3 :  300\n",
      "100 x 4 :  400\n",
      "100 x 5 :  500\n"
     ]
    }
   ],
   "source": [
    "times_table(100,5)"
   ]
  },
  {
   "cell_type": "code",
   "execution_count": 21,
   "id": "8a5207a3",
   "metadata": {},
   "outputs": [
    {
     "name": "stdout",
     "output_type": "stream",
     "text": [
      "3 x 1 :  3\n",
      "3 x 2 :  6\n",
      "3 x 3 :  9\n",
      "3 x 4 :  12\n",
      "3 x 5 :  15\n",
      "3 x 6 :  18\n",
      "3 x 7 :  21\n",
      "3 x 8 :  24\n",
      "3 x 9 :  27\n",
      "3 x 10 :  30\n"
     ]
    }
   ],
   "source": [
    "times_table(3)"
   ]
  },
  {
   "cell_type": "code",
   "execution_count": 4,
   "id": "8b698291",
   "metadata": {},
   "outputs": [
    {
     "name": "stdout",
     "output_type": "stream",
     "text": [
      "20 x 1 :  20\n",
      "20 x 2 :  40\n",
      "20 x 3 :  60\n"
     ]
    }
   ],
   "source": [
    "times_table(20,3)"
   ]
  },
  {
   "cell_type": "code",
   "execution_count": 13,
   "id": "5ef72a5a",
   "metadata": {},
   "outputs": [],
   "source": [
    "def list_format(list_a):\n",
    "    class_list2= []\n",
    "    for name in list_a:\n",
    "        class_list2.append(name.upper())\n",
    "    return class_list2"
   ]
  },
  {
   "cell_type": "code",
   "execution_count": 6,
   "id": "7b122972",
   "metadata": {},
   "outputs": [
    {
     "data": {
      "text/plain": [
       "['DAVE', 'LUKE', 'CHIOMA']"
      ]
     },
     "execution_count": 6,
     "metadata": {},
     "output_type": "execute_result"
    }
   ],
   "source": [
    "list_format(['dave','luke','chioma'])"
   ]
  },
  {
   "cell_type": "code",
   "execution_count": 7,
   "id": "73ca6255",
   "metadata": {},
   "outputs": [],
   "source": [
    "lis= ['chioma','fred','mike']"
   ]
  },
  {
   "cell_type": "code",
   "execution_count": 8,
   "id": "92dffb7a",
   "metadata": {},
   "outputs": [
    {
     "data": {
      "text/plain": [
       "['CHIOMA', 'FRED', 'MIKE']"
      ]
     },
     "execution_count": 8,
     "metadata": {},
     "output_type": "execute_result"
    }
   ],
   "source": [
    "list_format(lis)"
   ]
  },
  {
   "cell_type": "code",
   "execution_count": 9,
   "id": "95f29814",
   "metadata": {},
   "outputs": [
    {
     "ename": "NameError",
     "evalue": "name 'class_list2' is not defined",
     "output_type": "error",
     "traceback": [
      "\u001b[0;31m---------------------------------------------------------------------------\u001b[0m",
      "\u001b[0;31mNameError\u001b[0m                                 Traceback (most recent call last)",
      "\u001b[0;32m/tmp/ipykernel_21714/3364683518.py\u001b[0m in \u001b[0;36m<module>\u001b[0;34m\u001b[0m\n\u001b[0;32m----> 1\u001b[0;31m \u001b[0mclass_list2\u001b[0m\u001b[0;34m\u001b[0m\u001b[0;34m\u001b[0m\u001b[0m\n\u001b[0m",
      "\u001b[0;31mNameError\u001b[0m: name 'class_list2' is not defined"
     ]
    }
   ],
   "source": [
    "class_list2"
   ]
  },
  {
   "cell_type": "code",
   "execution_count": 32,
   "id": "9e7ab2e1",
   "metadata": {},
   "outputs": [
    {
     "name": "stdout",
     "output_type": "stream",
     "text": [
      "Now computing the result..\n",
      "Failed to compute result because you were trying to divide by zero\n",
      "None\n"
     ]
    }
   ],
   "source": [
    "try:\n",
    "    print(\"Now computing the result..\")\n",
    "    result = 5 / 0\n",
    "    print(\"Computation was completed successfully\")\n",
    "except ZeroDivisionError:\n",
    "    print(\"Failed to compute result because you were trying to divide by zero\")\n",
    "    result = None\n",
    "\n",
    "print(result)"
   ]
  },
  {
   "cell_type": "code",
   "execution_count": null,
   "id": "cdd95e1e",
   "metadata": {},
   "outputs": [],
   "source": []
  },
  {
   "cell_type": "code",
   "execution_count": null,
   "id": "df0e8ffb",
   "metadata": {},
   "outputs": [],
   "source": []
  },
  {
   "cell_type": "code",
   "execution_count": null,
   "id": "e7c091e4",
   "metadata": {},
   "outputs": [],
   "source": []
  },
  {
   "cell_type": "code",
   "execution_count": null,
   "id": "ff54fcbe",
   "metadata": {},
   "outputs": [],
   "source": []
  },
  {
   "cell_type": "code",
   "execution_count": null,
   "id": "34202cb9",
   "metadata": {},
   "outputs": [],
   "source": []
  }
 ],
 "metadata": {
  "kernelspec": {
   "display_name": "Python 3 (ipykernel)",
   "language": "python",
   "name": "python3"
  },
  "language_info": {
   "codemirror_mode": {
    "name": "ipython",
    "version": 3
   },
   "file_extension": ".py",
   "mimetype": "text/x-python",
   "name": "python",
   "nbconvert_exporter": "python",
   "pygments_lexer": "ipython3",
   "version": "3.9.15"
  }
 },
 "nbformat": 4,
 "nbformat_minor": 5
}
