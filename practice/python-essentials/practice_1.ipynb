{
 "cells": [
  {
   "cell_type": "code",
   "execution_count": 1,
   "id": "dad06144",
   "metadata": {},
   "outputs": [],
   "source": [
    "age = 5\n",
    "course = 12\n",
    "teacher = 200\n",
    "no_of_student = 50"
   ]
  },
  {
   "cell_type": "markdown",
   "id": "b0381825",
   "metadata": {},
   "source": [
    "## AND OPERATOR"
   ]
  },
  {
   "cell_type": "code",
   "execution_count": 2,
   "id": "59fc43a3",
   "metadata": {},
   "outputs": [
    {
     "data": {
      "text/plain": [
       "False"
      ]
     },
     "execution_count": 2,
     "metadata": {},
     "output_type": "execute_result"
    }
   ],
   "source": [
    "age > 6 and course < 5"
   ]
  },
  {
   "cell_type": "code",
   "execution_count": 4,
   "id": "d3b82546",
   "metadata": {},
   "outputs": [
    {
     "data": {
      "text/plain": [
       "True"
      ]
     },
     "execution_count": 4,
     "metadata": {},
     "output_type": "execute_result"
    }
   ],
   "source": [
    "age== 5 and course>=12"
   ]
  },
  {
   "cell_type": "markdown",
   "id": "47a24790",
   "metadata": {},
   "source": [
    "## OR OPERATOR"
   ]
  },
  {
   "cell_type": "code",
   "execution_count": 5,
   "id": "a2a9902c",
   "metadata": {},
   "outputs": [
    {
     "data": {
      "text/plain": [
       "True"
      ]
     },
     "execution_count": 5,
     "metadata": {},
     "output_type": "execute_result"
    }
   ],
   "source": [
    "age > 3 or course >13"
   ]
  },
  {
   "cell_type": "markdown",
   "id": "c7ddcdee",
   "metadata": {},
   "source": [
    "## NOT OPERATOR"
   ]
  },
  {
   "cell_type": "code",
   "execution_count": 6,
   "id": "d4d9e380",
   "metadata": {},
   "outputs": [
    {
     "data": {
      "text/plain": [
       "False"
      ]
     },
     "execution_count": 6,
     "metadata": {},
     "output_type": "execute_result"
    }
   ],
   "source": [
    "not age == 5"
   ]
  },
  {
   "cell_type": "code",
   "execution_count": null,
   "id": "cb2d525c",
   "metadata": {},
   "outputs": [],
   "source": []
  }
 ],
 "metadata": {
  "kernelspec": {
   "display_name": "Python 3 (ipykernel)",
   "language": "python",
   "name": "python3"
  },
  "language_info": {
   "codemirror_mode": {
    "name": "ipython",
    "version": 3
   },
   "file_extension": ".py",
   "mimetype": "text/x-python",
   "name": "python",
   "nbconvert_exporter": "python",
   "pygments_lexer": "ipython3",
   "version": "3.10.9"
  }
 },
 "nbformat": 4,
 "nbformat_minor": 5
}
