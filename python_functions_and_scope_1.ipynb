{
  "cells": [
    {
      "cell_type": "markdown",
      "metadata": {
        "id": "view-in-github",
        "colab_type": "text"
      },
      "source": [
        "<a href=\"https://colab.research.google.com/github/kenresoft/python-data-analytics-learning/blob/main/python_functions_and_scope_1.ipynb\" target=\"_parent\"><img src=\"https://colab.research.google.com/assets/colab-badge.svg\" alt=\"Open In Colab\"/></a>"
      ]
    },
    {
      "cell_type": "markdown",
      "metadata": {
        "id": "iEk2uEXI-hYE"
      },
      "source": [
        "# Writing Reusable Code using Functions in Python\n",
        "\n",
        "This tutorial is a part of [Data Analysis with Python: Zero to Pandas](https://jovian.ai/learn/data-analysis-with-python-zero-to-pandas) and [Zero to Data Analyst Science Bootcamp](https://jovian.ai/learn/zero-to-data-analyst-bootcamp).\n",
        "\n",
        "![](https://i.imgur.com/TvNf5Jp.png)\n",
        "\n",
        "These tutorials take a practical and coding-focused approach. The best way to learn the material is to execute the code and experiment with it yourself."
      ]
    },
    {
      "cell_type": "markdown",
      "metadata": {
        "id": "OasTb6qs-hYk"
      },
      "source": [
        "This tutorial covers the following topics:\n",
        "\n",
        "- Creating and using functions in Python\n",
        "- Local variables, return values, and optional arguments\n",
        "- Reusing functions and using Python library functions\n",
        "- Exception handling using `try`-`except` blocks\n",
        "- Documenting functions using docstrings"
      ]
    },
    {
      "cell_type": "markdown",
      "metadata": {
        "id": "mYzFzO3A-hYq"
      },
      "source": [
        "## Creating and using functions\n",
        "\n",
        "A function is a reusable set of instructions that takes one or more inputs, performs some operations, and often returns an output. Python contains many in-built functions like `print`, `len`, etc., and provides the ability to define new ones."
      ]
    },
    {
      "cell_type": "code",
      "execution_count": null,
      "metadata": {
        "id": "j5JgYwRK-hYw",
        "outputId": "344f367b-5991-4f10-cc74-d61992f57aa2"
      },
      "outputs": [
        {
          "name": "stdout",
          "output_type": "stream",
          "text": [
            "Today is Saturday\n"
          ]
        }
      ],
      "source": [
        "today = \"Saturday\"\n",
        "print(\"Today is\", today)"
      ]
    },
    {
      "cell_type": "markdown",
      "metadata": {
        "id": "gqGcCWl5-hZD"
      },
      "source": [
        "You can define a new function using the `def` keyword."
      ]
    },
    {
      "cell_type": "code",
      "execution_count": null,
      "metadata": {
        "id": "z9hUcwOt-hZI"
      },
      "outputs": [],
      "source": [
        "def say_hello():\n",
        "    print('Hello there!')\n",
        "    print('How are you?')"
      ]
    },
    {
      "cell_type": "markdown",
      "metadata": {
        "id": "dclpfs7y-hZM"
      },
      "source": [
        "Note the round brackets or parentheses `()` and colon `:` after the function's name. Both are essential parts of the syntax. The function's *body* contains an indented block of statements. The statements inside a function's body are not executed when the function is defined. To execute the statements, we need to *call* or *invoke* the function."
      ]
    },
    {
      "cell_type": "code",
      "execution_count": null,
      "metadata": {
        "id": "Yg7MQdWR-hZR",
        "outputId": "e31d695d-eeee-4268-a7d1-7ab1f165ae51"
      },
      "outputs": [
        {
          "name": "stdout",
          "output_type": "stream",
          "text": [
            "Hello there!\n",
            "How are you?\n"
          ]
        }
      ],
      "source": [
        "say_hello()"
      ]
    },
    {
      "cell_type": "markdown",
      "metadata": {
        "id": "4sg6mcY1-hZY"
      },
      "source": [
        "### Function arguments\n",
        "\n",
        "Functions can accept zero or more values as *inputs* (also knows as *arguments* or *parameters*). Arguments help us write flexible functions that can perform the same operations on different values. Further, functions can return a result that can be stored in a variable or used in other expressions.\n",
        "\n",
        "Here's a function that filters out the even numbers from a list and returns a new list using the `return` keyword."
      ]
    },
    {
      "cell_type": "code",
      "execution_count": null,
      "metadata": {
        "id": "gN-mFX4C-hZc"
      },
      "outputs": [],
      "source": [
        "def filter_even(number_list):\n",
        "    result_list = []\n",
        "    for number in number_list:\n",
        "        if number % 2 == 0:\n",
        "            result_list.append(number)\n",
        "    return result_list"
      ]
    },
    {
      "cell_type": "markdown",
      "metadata": {
        "id": "ooUlRJvF-hZh"
      },
      "source": [
        "Can you understand what the function does by looking at the code? If not, try executing each line of the function's body separately within a code cell with an actual list of numbers in place of `number_list`."
      ]
    },
    {
      "cell_type": "code",
      "execution_count": null,
      "metadata": {
        "id": "f27N7vv7-hZk"
      },
      "outputs": [],
      "source": [
        "even_list = filter_even([1, 2, 3, 4, 5, 6, 7])"
      ]
    },
    {
      "cell_type": "code",
      "execution_count": null,
      "metadata": {
        "id": "X4L65cX4-hZo",
        "outputId": "15f29027-1f78-4d1e-8487-605a24de826b"
      },
      "outputs": [
        {
          "data": {
            "text/plain": [
              "[2, 4, 6]"
            ]
          },
          "execution_count": 6,
          "metadata": {},
          "output_type": "execute_result"
        }
      ],
      "source": [
        "even_list"
      ]
    },
    {
      "cell_type": "markdown",
      "metadata": {
        "id": "SfyMZ7Xl-hZr"
      },
      "source": [
        "## Writing great functions in Python\n",
        "\n",
        "As a programmer, you will spend most of your time writing and using functions. Python offers many features to make your functions powerful and flexible. Let's explore some of these by solving a problem:\n",
        "\n",
        "> Radha is planning to buy a house that costs `$1,260,000`. She considering two options to finance her purchase:\n",
        ">\n",
        "> * Option 1: Make an immediate down payment of `$300,000`, and take loan 8-year loan with an interest rate of 10% (compounded monthly) for the remaining amount.\n",
        "> * Option 2: Take a 10-year loan with an interest rate of 8% (compounded monthly) for the entire amount.\n",
        ">\n",
        "> Both these loans have to be paid back in equal monthly installments (EMIs). Which loan has a lower EMI among the two?\n",
        "\n",
        "\n",
        "Since we need to compare the EMIs for two loan options, defining a function to calculate the EMI for a loan would be a great idea.  The inputs to the function would be cost of the house, the down payment, duration of the loan, rate of interest etc. We'll build this function step by step.\n",
        "\n",
        "First, let's write a simple function that calculates the EMI on the entire cost of the house, assuming that the loan must be paid back in one year, and there is no interest or down payment."
      ]
    },
    {
      "cell_type": "code",
      "execution_count": null,
      "metadata": {
        "id": "2SnyHPLI-hZv"
      },
      "outputs": [],
      "source": [
        "def loan_emi(amount):\n",
        "    emi = amount / 12\n",
        "    print('The EMI is ${}'.format(emi))"
      ]
    },
    {
      "cell_type": "code",
      "execution_count": null,
      "metadata": {
        "id": "Kbk9eIE4-hZz",
        "outputId": "ec9a47e9-0f37-4d58-9f43-e1b1b3e09312"
      },
      "outputs": [
        {
          "name": "stdout",
          "output_type": "stream",
          "text": [
            "The EMI is $105000.0\n"
          ]
        }
      ],
      "source": [
        "loan_emi(1260000)"
      ]
    },
    {
      "cell_type": "markdown",
      "metadata": {
        "id": "eTAiveyo-hZ3"
      },
      "source": [
        "### Local variables and scope\n",
        "\n",
        "Let's add a second argument to account for the duration of the loan in months."
      ]
    },
    {
      "cell_type": "code",
      "execution_count": null,
      "metadata": {
        "id": "4bGC87p5-hZ6"
      },
      "outputs": [],
      "source": [
        "def loan_emi(amount, duration):\n",
        "    emi = amount / duration\n",
        "    print('The EMI is ${}'.format(emi))"
      ]
    },
    {
      "cell_type": "markdown",
      "metadata": {
        "id": "DLJ8hq6k-hZ9"
      },
      "source": [
        "Note that the variable `emi` defined inside the function is not accessible outside. The same is true for the parameters `amount` and `duration`. These are all *local variables* that lie within the *scope* of the function.\n",
        "\n",
        "> **Scope**: Scope refers to the region within the code where a particular variable is visible. Every function (or class definition) defines a scope within Python. Variables defined in this scope are called *local variables*. Variables that are available everywhere are called *global variables*. Scope rules allow you to use the same variable names in different functions without sharing values from one to the other."
      ]
    },
    {
      "cell_type": "code",
      "execution_count": null,
      "metadata": {
        "id": "-YP9r0nx-haA",
        "outputId": "3558fd77-78f0-4685-bb06-8254879291bf"
      },
      "outputs": [
        {
          "ename": "NameError",
          "evalue": "name 'emi' is not defined",
          "output_type": "error",
          "traceback": [
            "\u001b[0;31m---------------------------------------------------------------------------\u001b[0m",
            "\u001b[0;31mNameError\u001b[0m                                 Traceback (most recent call last)",
            "\u001b[0;32m/tmp/ipykernel_38/1358411353.py\u001b[0m in \u001b[0;36m<module>\u001b[0;34m\u001b[0m\n\u001b[0;32m----> 1\u001b[0;31m \u001b[0memi\u001b[0m\u001b[0;34m\u001b[0m\u001b[0;34m\u001b[0m\u001b[0m\n\u001b[0m",
            "\u001b[0;31mNameError\u001b[0m: name 'emi' is not defined"
          ]
        }
      ],
      "source": [
        "emi"
      ]
    },
    {
      "cell_type": "code",
      "execution_count": null,
      "metadata": {
        "id": "oaxzaWWb-haE",
        "outputId": "6b956ff2-9c38-4730-c62d-46b4be6c826d"
      },
      "outputs": [
        {
          "ename": "NameError",
          "evalue": "name 'amount' is not defined",
          "output_type": "error",
          "traceback": [
            "\u001b[0;31m---------------------------------------------------------------------------\u001b[0m",
            "\u001b[0;31mNameError\u001b[0m                                 Traceback (most recent call last)",
            "\u001b[0;32m/tmp/ipykernel_38/628052274.py\u001b[0m in \u001b[0;36m<module>\u001b[0;34m\u001b[0m\n\u001b[0;32m----> 1\u001b[0;31m \u001b[0mamount\u001b[0m\u001b[0;34m\u001b[0m\u001b[0;34m\u001b[0m\u001b[0m\n\u001b[0m",
            "\u001b[0;31mNameError\u001b[0m: name 'amount' is not defined"
          ]
        }
      ],
      "source": [
        "amount"
      ]
    },
    {
      "cell_type": "code",
      "execution_count": null,
      "metadata": {
        "id": "I_lh3gjI-haI",
        "outputId": "4477a58f-4bf5-4744-a2b1-dc717836aba9"
      },
      "outputs": [
        {
          "ename": "NameError",
          "evalue": "name 'duration' is not defined",
          "output_type": "error",
          "traceback": [
            "\u001b[0;31m---------------------------------------------------------------------------\u001b[0m",
            "\u001b[0;31mNameError\u001b[0m                                 Traceback (most recent call last)",
            "\u001b[0;32m/tmp/ipykernel_38/3792379043.py\u001b[0m in \u001b[0;36m<module>\u001b[0;34m\u001b[0m\n\u001b[0;32m----> 1\u001b[0;31m \u001b[0mduration\u001b[0m\u001b[0;34m\u001b[0m\u001b[0;34m\u001b[0m\u001b[0m\n\u001b[0m",
            "\u001b[0;31mNameError\u001b[0m: name 'duration' is not defined"
          ]
        }
      ],
      "source": [
        "duration"
      ]
    },
    {
      "cell_type": "markdown",
      "metadata": {
        "id": "2RnzDolJ-haM"
      },
      "source": [
        "We can now compare a 8-year loan vs. a 10-year loan (assuming no down payment or interest)."
      ]
    },
    {
      "cell_type": "code",
      "execution_count": null,
      "metadata": {
        "id": "6ouehrIl-haP",
        "outputId": "22a2342d-5378-48c4-8c8c-ceaecf61c5d2"
      },
      "outputs": [
        {
          "name": "stdout",
          "output_type": "stream",
          "text": [
            "The EMI is $13125.0\n"
          ]
        }
      ],
      "source": [
        "loan_emi(1260000, 8*12)"
      ]
    },
    {
      "cell_type": "code",
      "execution_count": null,
      "metadata": {
        "scrolled": true,
        "id": "xJ1ytIj9-haS",
        "outputId": "9822437c-ff19-4276-d2bd-3a0c5ad6f88d"
      },
      "outputs": [
        {
          "name": "stdout",
          "output_type": "stream",
          "text": [
            "The EMI is $10500.0\n"
          ]
        }
      ],
      "source": [
        "loan_emi(1260000, 10*12)"
      ]
    },
    {
      "cell_type": "markdown",
      "metadata": {
        "id": "xO8l-Td6-haW"
      },
      "source": [
        "### Return values\n",
        "\n",
        "As you might expect, the EMI for the 6-year loan is higher compared to the 10-year loan. Right now, we're printing out the result. It would be better to return it and store the results in variables for easier comparison. We can do this using the `return` statement"
      ]
    },
    {
      "cell_type": "code",
      "execution_count": null,
      "metadata": {
        "id": "yfqm1SRJ-haZ"
      },
      "outputs": [],
      "source": [
        "def loan_emi(amount, duration):\n",
        "    emi = amount / duration\n",
        "    return emi"
      ]
    },
    {
      "cell_type": "code",
      "execution_count": null,
      "metadata": {
        "id": "udpHrmHm-hac"
      },
      "outputs": [],
      "source": [
        "emi1 = loan_emi(1260000, 8*12)"
      ]
    },
    {
      "cell_type": "code",
      "execution_count": null,
      "metadata": {
        "id": "YSQnrmJ5-haf"
      },
      "outputs": [],
      "source": [
        "emi2 = loan_emi(1260000, 10*12)"
      ]
    },
    {
      "cell_type": "code",
      "execution_count": null,
      "metadata": {
        "scrolled": true,
        "id": "0LeFtqCt-hai",
        "outputId": "65796a3f-e045-4c9a-f037-50a53198feb4"
      },
      "outputs": [
        {
          "data": {
            "text/plain": [
              "13125.0"
            ]
          },
          "execution_count": 18,
          "metadata": {},
          "output_type": "execute_result"
        }
      ],
      "source": [
        "emi1"
      ]
    },
    {
      "cell_type": "code",
      "execution_count": null,
      "metadata": {
        "id": "gWx0Gro5-ham",
        "outputId": "7bd03542-eed4-4a44-c46c-c9a5c8e7e43b"
      },
      "outputs": [
        {
          "data": {
            "text/plain": [
              "10500.0"
            ]
          },
          "execution_count": 19,
          "metadata": {},
          "output_type": "execute_result"
        }
      ],
      "source": [
        "emi2"
      ]
    },
    {
      "cell_type": "markdown",
      "metadata": {
        "id": "6xj414g8-hap"
      },
      "source": [
        "### Optional arguments\n",
        "\n",
        "Next, let's add another argument to account for the immediate down payment. We'll make this an *optional argument* with a default value of 0."
      ]
    },
    {
      "cell_type": "code",
      "execution_count": null,
      "metadata": {
        "id": "HKTzSqxh-has"
      },
      "outputs": [],
      "source": [
        "def loan_emi(amount, duration, down_payment=0):\n",
        "    loan_amount = amount - down_payment\n",
        "    emi = loan_amount / duration\n",
        "    return emi"
      ]
    },
    {
      "cell_type": "code",
      "execution_count": null,
      "metadata": {
        "id": "E-kBsP8P-hav"
      },
      "outputs": [],
      "source": [
        "emi1 = loan_emi(1260000, 8*12, 3e5)"
      ]
    },
    {
      "cell_type": "code",
      "execution_count": null,
      "metadata": {
        "id": "uZ5q64gb-hay",
        "outputId": "e997685c-e004-46a6-ddfb-f1e21784d137"
      },
      "outputs": [
        {
          "data": {
            "text/plain": [
              "10000.0"
            ]
          },
          "execution_count": 22,
          "metadata": {},
          "output_type": "execute_result"
        }
      ],
      "source": [
        "emi1"
      ]
    },
    {
      "cell_type": "code",
      "execution_count": null,
      "metadata": {
        "id": "eEXNlcUI-ha1"
      },
      "outputs": [],
      "source": [
        "emi2 = loan_emi(1260000, 10*12)"
      ]
    },
    {
      "cell_type": "code",
      "execution_count": null,
      "metadata": {
        "id": "6JA0YtL3-ha4",
        "outputId": "c5651475-7433-4055-9c20-521fffadaf17"
      },
      "outputs": [
        {
          "data": {
            "text/plain": [
              "10500.0"
            ]
          },
          "execution_count": 24,
          "metadata": {},
          "output_type": "execute_result"
        }
      ],
      "source": [
        "emi2"
      ]
    },
    {
      "cell_type": "markdown",
      "metadata": {
        "id": "KOMLWqwM-ha7"
      },
      "source": [
        "Next, let's add the interest calculation into the function. Here's the formula used to calculate the EMI for a loan:\n",
        "\n",
        "<img src=\"https://i.imgur.com/iKujHGK.png\" style=\"width:240px\">\n",
        "\n",
        "where:\n",
        "\n",
        "* `P` is the loan amount (principal)\n",
        "* `n` is the no. of months\n",
        "* `r` is the rate of interest per month\n",
        "\n",
        "The derivation of this formula is beyond the scope of this tutorial. See this video for an explanation: https://youtu.be/Coxza9ugW4E ."
      ]
    },
    {
      "cell_type": "code",
      "execution_count": null,
      "metadata": {
        "id": "0t8w8tmj-ha-"
      },
      "outputs": [],
      "source": [
        "def loan_emi(amount, duration, rate, down_payment=0):\n",
        "    loan_amount = amount - down_payment\n",
        "    emi = loan_amount * rate * ((1+rate)**duration) / (((1+rate)**duration)-1)\n",
        "    return emi"
      ]
    },
    {
      "cell_type": "markdown",
      "metadata": {
        "id": "4WsUPNVt-hbZ"
      },
      "source": [
        "Note that while defining the function, required arguments like `cost`, `duration` and `rate` must appear before optional arguments like `down_payment`.\n",
        "\n",
        "Let's calculate the EMI for Option 1"
      ]
    },
    {
      "cell_type": "code",
      "execution_count": null,
      "metadata": {
        "scrolled": true,
        "id": "KR-DK44m-hbc",
        "outputId": "a473cf8c-91e4-42c8-eedf-0253ea49169e"
      },
      "outputs": [
        {
          "data": {
            "text/plain": [
              "14567.19753389219"
            ]
          },
          "execution_count": 26,
          "metadata": {},
          "output_type": "execute_result"
        }
      ],
      "source": [
        "loan_emi(1260000, 8*12, 0.1/12, 3e5)"
      ]
    },
    {
      "cell_type": "markdown",
      "metadata": {
        "id": "gP0ZRjXX-hbg"
      },
      "source": [
        "While calculating the EMI for Option 2, we need not include the `down_payment` argument."
      ]
    },
    {
      "cell_type": "code",
      "execution_count": null,
      "metadata": {
        "id": "0rVYcaBt-hbj",
        "outputId": "bec07786-af5c-4514-b3f5-874af8d93320"
      },
      "outputs": [
        {
          "data": {
            "text/plain": [
              "15287.276888775077"
            ]
          },
          "execution_count": 27,
          "metadata": {},
          "output_type": "execute_result"
        }
      ],
      "source": [
        "loan_emi(1260000, 10*12, 0.08/12)"
      ]
    },
    {
      "cell_type": "markdown",
      "metadata": {
        "id": "A_52fHhU-hbo"
      },
      "source": [
        "### Named arguments\n",
        "\n",
        "Invoking a function with many arguments can often get confusing and is prone to human errors. Python provides the option of invoking functions with *named* arguments for better clarity. You can also split function invocation into multiple lines."
      ]
    },
    {
      "cell_type": "code",
      "execution_count": null,
      "metadata": {
        "id": "8zGSjp9E-hbs"
      },
      "outputs": [],
      "source": [
        "emi1 = loan_emi(\n",
        "    amount=1260000,\n",
        "    duration=8*12,\n",
        "    rate=0.1/12,\n",
        "    down_payment=3e5\n",
        ")"
      ]
    },
    {
      "cell_type": "code",
      "execution_count": null,
      "metadata": {
        "id": "xHer3tu2-hbv",
        "outputId": "8b935725-b19e-4558-a5d6-0387716cd0e0"
      },
      "outputs": [
        {
          "data": {
            "text/plain": [
              "14567.19753389219"
            ]
          },
          "execution_count": 29,
          "metadata": {},
          "output_type": "execute_result"
        }
      ],
      "source": [
        "emi1"
      ]
    },
    {
      "cell_type": "code",
      "execution_count": null,
      "metadata": {
        "id": "GOjIW1wK-hbz"
      },
      "outputs": [],
      "source": [
        "emi2 = loan_emi(amount=1260000, duration=10*12, rate=0.08/12)"
      ]
    },
    {
      "cell_type": "code",
      "execution_count": null,
      "metadata": {
        "id": "UhlUSS0O-hb3",
        "outputId": "ce54f348-c078-4112-edb6-2ffc7daa07fd"
      },
      "outputs": [
        {
          "data": {
            "text/plain": [
              "15287.276888775077"
            ]
          },
          "execution_count": 31,
          "metadata": {},
          "output_type": "execute_result"
        }
      ],
      "source": [
        "emi2"
      ]
    },
    {
      "cell_type": "markdown",
      "metadata": {
        "id": "9F3OiWkS-hb7"
      },
      "source": [
        "### Modules and library functions\n",
        "\n",
        "We can already see that the EMI for Option 1 is lower than the EMI for Option 2. However, it would be nice to round up the amount to full dollars, rather than showing digits after the decimal. To achieve this, we might want to write a function that can take a number and round it up to the next integer (e.g., 1.2 is rounded up to 2). That would be a great exercise to try out!\n",
        "\n",
        "However, since rounding numbers is a fairly common operation, Python provides a function for it (along with thousands of other functions) as part of the [Python Standard Library](https://docs.python.org/3/library/). Functions are organized into *modules* that need to be imported to use the functions they contain.\n",
        "\n",
        "> **Modules**: Modules are files containing Python code (variables, functions, classes, etc.). They provide a way of organizing the code for large Python projects into files and folders. The key benefit of using modules is _namespaces_: you must import the module to use its functions within a Python script or notebook. Namespaces provide encapsulation and avoid naming conflicts between your code and a module or across modules.\n",
        "\n",
        "We can use the `ceil` function (short for *ceiling*) from the `math` module to round up numbers. Let's import the module and use it to round up the number `1.2`."
      ]
    },
    {
      "cell_type": "code",
      "execution_count": null,
      "metadata": {
        "id": "j17Rzrix-hb-"
      },
      "outputs": [],
      "source": [
        "import math"
      ]
    },
    {
      "cell_type": "code",
      "execution_count": null,
      "metadata": {
        "id": "2G6wTDqu-hcB",
        "outputId": "5c901e3b-eace-4351-f800-6c45aa5d166f"
      },
      "outputs": [
        {
          "name": "stdout",
          "output_type": "stream",
          "text": [
            "Help on built-in function ceil in module math:\n",
            "\n",
            "ceil(x, /)\n",
            "    Return the ceiling of x as an Integral.\n",
            "    \n",
            "    This is the smallest integer >= x.\n",
            "\n"
          ]
        }
      ],
      "source": [
        "help(math.ceil)"
      ]
    },
    {
      "cell_type": "code",
      "execution_count": null,
      "metadata": {
        "id": "kdi1FtbR-hcF",
        "outputId": "3f1d097e-c7c8-45db-e7a1-804308a1b5da"
      },
      "outputs": [
        {
          "data": {
            "text/plain": [
              "2"
            ]
          },
          "execution_count": 34,
          "metadata": {},
          "output_type": "execute_result"
        }
      ],
      "source": [
        "math.ceil(1.2)"
      ]
    },
    {
      "cell_type": "markdown",
      "metadata": {
        "id": "hnKdeivA-hcJ"
      },
      "source": [
        "Let's now use the `math.ceil` function within the `home_loan_emi` function to round up the EMI amount.\n",
        "\n",
        "> Using functions to build other functions is a great way to reuse code and implement complex business logic while still keeping the code small, understandable, and manageable. Ideally, a function should do one thing and one thing only. If you find yourself writing a function that does too many things, consider splitting it into multiple smaller, independent functions. As a rule of thumb, try to limit your functions to 10 lines of code or less. Good programmers always write short, simple, and readable functions.\n",
        "\n"
      ]
    },
    {
      "cell_type": "code",
      "execution_count": null,
      "metadata": {
        "id": "itk-e3M--hcM"
      },
      "outputs": [],
      "source": [
        "def loan_emi(amount, duration, rate, down_payment=0):\n",
        "    loan_amount = amount - down_payment\n",
        "    emi = loan_amount * rate * ((1+rate)**duration) / (((1+rate)**duration)-1)\n",
        "    emi = math.ceil(emi)\n",
        "    return emi"
      ]
    },
    {
      "cell_type": "code",
      "execution_count": null,
      "metadata": {
        "id": "9hivHWMt-hcQ"
      },
      "outputs": [],
      "source": [
        "emi1 = loan_emi(\n",
        "    amount=1260000,\n",
        "    duration=8*12,\n",
        "    rate=0.1/12,\n",
        "    down_payment=3e5\n",
        ")"
      ]
    },
    {
      "cell_type": "code",
      "execution_count": null,
      "metadata": {
        "id": "gA--paqO-hcU",
        "outputId": "706baab2-6e8d-4f91-a6d2-2de05c62ab87"
      },
      "outputs": [
        {
          "data": {
            "text/plain": [
              "14568"
            ]
          },
          "execution_count": 37,
          "metadata": {},
          "output_type": "execute_result"
        }
      ],
      "source": [
        "emi1"
      ]
    },
    {
      "cell_type": "code",
      "execution_count": null,
      "metadata": {
        "id": "yfZORGZO-hcY"
      },
      "outputs": [],
      "source": [
        "emi2 = loan_emi(amount=1260000, duration=10*12, rate=0.08/12)"
      ]
    },
    {
      "cell_type": "code",
      "execution_count": null,
      "metadata": {
        "id": "SMiVfgv_-hcc",
        "outputId": "deb4be7d-517f-4e21-9071-a871bf557758"
      },
      "outputs": [
        {
          "data": {
            "text/plain": [
              "15288"
            ]
          },
          "execution_count": 39,
          "metadata": {},
          "output_type": "execute_result"
        }
      ],
      "source": [
        "emi2"
      ]
    },
    {
      "cell_type": "markdown",
      "metadata": {
        "id": "NCjHz5ky-hch"
      },
      "source": [
        "Let's compare the EMIs and display a message for the option with the lower EMI."
      ]
    },
    {
      "cell_type": "code",
      "execution_count": null,
      "metadata": {
        "id": "wvTIpyJR-hck",
        "outputId": "e03bf2f7-0937-4ce2-ea2f-2fa0633c2fe7"
      },
      "outputs": [
        {
          "name": "stdout",
          "output_type": "stream",
          "text": [
            "Option 1 has the lower EMI: $14568\n"
          ]
        }
      ],
      "source": [
        "if emi1 < emi2:\n",
        "    print(\"Option 1 has the lower EMI: ${}\".format(emi1))\n",
        "else:\n",
        "    print(\"Option 2 has the lower EMI: ${}\".format(emi2))"
      ]
    },
    {
      "cell_type": "markdown",
      "metadata": {
        "id": "HTZd9160-hco"
      },
      "source": [
        "### Reusing and improving functions\n",
        "\n",
        "Now we know for sure that \"Option 1\" has the lower EMI among the two options. But what's even better is that we now have a handy function `loan_emi` that we can use to solve many other similar problems with just a few lines of code. Let's try it with a couple more questions."
      ]
    },
    {
      "cell_type": "markdown",
      "metadata": {
        "id": "e6KYErhd-hcr"
      },
      "source": [
        "> **Q**: Shaun is currently paying back a home loan for a house he bought a few years ago. The cost of the house was `$800,000`. Shaun made a down payment of `25%` of the price. He financed the remaining amount using a 6-year loan with an interest rate of `7%` per annum (compounded monthly). Shaun is now buying a car worth `$60,000`, which he is planning to finance using a 1-year loan with an interest rate of `12%` per annum. Both loans are paid back in EMIs. What is the total monthly payment Shaun makes towards loan repayment?\n",
        "\n",
        "This question is now straightforward to solve, using the `loan_emi` function we've already defined."
      ]
    },
    {
      "cell_type": "code",
      "execution_count": null,
      "metadata": {
        "id": "SI2PCcyc-hcu",
        "outputId": "3fc68738-4958-49cf-b403-6b6685edd9ad"
      },
      "outputs": [
        {
          "data": {
            "text/plain": [
              "10230"
            ]
          },
          "execution_count": 41,
          "metadata": {},
          "output_type": "execute_result"
        }
      ],
      "source": [
        "cost_of_house = 800000\n",
        "home_loan_duration = 6*12 # months\n",
        "home_loan_rate = 0.07/12 # monthly\n",
        "home_down_payment = .25 * 800000\n",
        "\n",
        "emi_house = loan_emi(amount=cost_of_house,\n",
        "                     duration=home_loan_duration,\n",
        "                     rate=home_loan_rate,\n",
        "                     down_payment=home_down_payment)\n",
        "\n",
        "emi_house"
      ]
    },
    {
      "cell_type": "code",
      "execution_count": null,
      "metadata": {
        "id": "J7S26KwJ-hcy",
        "outputId": "e5290441-ab7c-4ef8-d59b-f8b6269b5abe"
      },
      "outputs": [
        {
          "data": {
            "text/plain": [
              "5331"
            ]
          },
          "execution_count": 42,
          "metadata": {},
          "output_type": "execute_result"
        }
      ],
      "source": [
        "cost_of_car = 60000\n",
        "car_loan_duration = 1*12 # months\n",
        "car_loan_rate = .12/12 # monthly\n",
        "\n",
        "emi_car = loan_emi(amount=cost_of_car,\n",
        "                   duration=car_loan_duration,\n",
        "                   rate=car_loan_rate)\n",
        "\n",
        "emi_car"
      ]
    },
    {
      "cell_type": "code",
      "execution_count": null,
      "metadata": {
        "id": "Lv1Hif42-hc2",
        "outputId": "23f01d7d-74c5-4064-ef76-b91269edfe73"
      },
      "outputs": [
        {
          "name": "stdout",
          "output_type": "stream",
          "text": [
            "Shaun makes a total monthly payment of $15561 towards loan repayments.\n"
          ]
        }
      ],
      "source": [
        "print(\"Shaun makes a total monthly payment of ${} towards loan repayments.\".format(emi_house+emi_car))"
      ]
    },
    {
      "cell_type": "markdown",
      "metadata": {
        "id": "SNoUqCEH-hc6"
      },
      "source": [
        "### Exceptions and `try`-`except`\n",
        "\n",
        "> Q: If you borrow `$100,000` using a 10-year loan with an interest rate of 9% per annum, what is the total amount you end up paying as interest?\n",
        "\n",
        "One way to solve this problem is to compare the EMIs for two loans: one with the given rate of interest and another with a 0% rate of interest. The total interest paid is then simply the sum of monthly differences over the duration of the loan."
      ]
    },
    {
      "cell_type": "code",
      "execution_count": null,
      "metadata": {
        "id": "kowCNOp8-hc9",
        "outputId": "ae0215d6-b395-4452-abe3-1242044e931e"
      },
      "outputs": [
        {
          "data": {
            "text/plain": [
              "1267"
            ]
          },
          "execution_count": 44,
          "metadata": {},
          "output_type": "execute_result"
        }
      ],
      "source": [
        "emi_with_interest = loan_emi(amount=100000, duration=10*12, rate=0.09/12)\n",
        "emi_with_interest"
      ]
    },
    {
      "cell_type": "code",
      "execution_count": null,
      "metadata": {
        "id": "xfXKRSz4-hdB",
        "outputId": "bc5afaf2-0551-4eb0-86f9-eab1976231b8"
      },
      "outputs": [
        {
          "ename": "ZeroDivisionError",
          "evalue": "float division by zero",
          "output_type": "error",
          "traceback": [
            "\u001b[0;31m---------------------------------------------------------------------------\u001b[0m",
            "\u001b[0;31mZeroDivisionError\u001b[0m                         Traceback (most recent call last)",
            "\u001b[0;32m/tmp/ipykernel_38/1444869962.py\u001b[0m in \u001b[0;36m<module>\u001b[0;34m\u001b[0m\n\u001b[0;32m----> 1\u001b[0;31m \u001b[0memi_without_interest\u001b[0m \u001b[0;34m=\u001b[0m \u001b[0mloan_emi\u001b[0m\u001b[0;34m(\u001b[0m\u001b[0mamount\u001b[0m\u001b[0;34m=\u001b[0m\u001b[0;36m100000\u001b[0m\u001b[0;34m,\u001b[0m \u001b[0mduration\u001b[0m\u001b[0;34m=\u001b[0m\u001b[0;36m10\u001b[0m\u001b[0;34m*\u001b[0m\u001b[0;36m12\u001b[0m\u001b[0;34m,\u001b[0m \u001b[0mrate\u001b[0m\u001b[0;34m=\u001b[0m\u001b[0;36m0.\u001b[0m\u001b[0;34m/\u001b[0m\u001b[0;36m12\u001b[0m\u001b[0;34m)\u001b[0m\u001b[0;34m\u001b[0m\u001b[0;34m\u001b[0m\u001b[0m\n\u001b[0m\u001b[1;32m      2\u001b[0m \u001b[0memi_without_interest\u001b[0m\u001b[0;34m\u001b[0m\u001b[0;34m\u001b[0m\u001b[0m\n",
            "\u001b[0;32m/tmp/ipykernel_38/2645328471.py\u001b[0m in \u001b[0;36mloan_emi\u001b[0;34m(amount, duration, rate, down_payment)\u001b[0m\n\u001b[1;32m      1\u001b[0m \u001b[0;32mdef\u001b[0m \u001b[0mloan_emi\u001b[0m\u001b[0;34m(\u001b[0m\u001b[0mamount\u001b[0m\u001b[0;34m,\u001b[0m \u001b[0mduration\u001b[0m\u001b[0;34m,\u001b[0m \u001b[0mrate\u001b[0m\u001b[0;34m,\u001b[0m \u001b[0mdown_payment\u001b[0m\u001b[0;34m=\u001b[0m\u001b[0;36m0\u001b[0m\u001b[0;34m)\u001b[0m\u001b[0;34m:\u001b[0m\u001b[0;34m\u001b[0m\u001b[0;34m\u001b[0m\u001b[0m\n\u001b[1;32m      2\u001b[0m     \u001b[0mloan_amount\u001b[0m \u001b[0;34m=\u001b[0m \u001b[0mamount\u001b[0m \u001b[0;34m-\u001b[0m \u001b[0mdown_payment\u001b[0m\u001b[0;34m\u001b[0m\u001b[0;34m\u001b[0m\u001b[0m\n\u001b[0;32m----> 3\u001b[0;31m     \u001b[0memi\u001b[0m \u001b[0;34m=\u001b[0m \u001b[0mloan_amount\u001b[0m \u001b[0;34m*\u001b[0m \u001b[0mrate\u001b[0m \u001b[0;34m*\u001b[0m \u001b[0;34m(\u001b[0m\u001b[0;34m(\u001b[0m\u001b[0;36m1\u001b[0m\u001b[0;34m+\u001b[0m\u001b[0mrate\u001b[0m\u001b[0;34m)\u001b[0m\u001b[0;34m**\u001b[0m\u001b[0mduration\u001b[0m\u001b[0;34m)\u001b[0m \u001b[0;34m/\u001b[0m \u001b[0;34m(\u001b[0m\u001b[0;34m(\u001b[0m\u001b[0;34m(\u001b[0m\u001b[0;36m1\u001b[0m\u001b[0;34m+\u001b[0m\u001b[0mrate\u001b[0m\u001b[0;34m)\u001b[0m\u001b[0;34m**\u001b[0m\u001b[0mduration\u001b[0m\u001b[0;34m)\u001b[0m\u001b[0;34m-\u001b[0m\u001b[0;36m1\u001b[0m\u001b[0;34m)\u001b[0m\u001b[0;34m\u001b[0m\u001b[0;34m\u001b[0m\u001b[0m\n\u001b[0m\u001b[1;32m      4\u001b[0m     \u001b[0memi\u001b[0m \u001b[0;34m=\u001b[0m \u001b[0mmath\u001b[0m\u001b[0;34m.\u001b[0m\u001b[0mceil\u001b[0m\u001b[0;34m(\u001b[0m\u001b[0memi\u001b[0m\u001b[0;34m)\u001b[0m\u001b[0;34m\u001b[0m\u001b[0;34m\u001b[0m\u001b[0m\n\u001b[1;32m      5\u001b[0m     \u001b[0;32mreturn\u001b[0m \u001b[0memi\u001b[0m\u001b[0;34m\u001b[0m\u001b[0;34m\u001b[0m\u001b[0m\n",
            "\u001b[0;31mZeroDivisionError\u001b[0m: float division by zero"
          ]
        }
      ],
      "source": [
        "emi_without_interest = loan_emi(amount=100000, duration=10*12, rate=0./12)\n",
        "emi_without_interest"
      ]
    },
    {
      "cell_type": "markdown",
      "metadata": {
        "id": "CeP_1YK6-hdF"
      },
      "source": [
        "Something seems to have gone wrong! If you look at the error message above carefully, Python tells us precisely what is wrong. Python *throws* a `ZeroDivisionError` with a message indicating that we're trying to divide a number by zero. `ZeroDivisonError` is an *exception* that stops further execution of the program.\n",
        "\n",
        "> **Exception**: Even if a statement or expression is syntactically correct, it may cause an error when the Python interpreter tries to execute it. Errors detected during execution are called exceptions. Exceptions typically stop further execution of the program unless handled within the program using `try`-`except` statements.\n",
        "\n",
        "Python provides many built-in exceptions *thrown* when built-in operators, functions, or methods are used incorrectly: https://docs.python.org/3/library/exceptions.html#built-in-exceptions. You can also define your custom exception by extending the `Exception` class (more on that later).\n",
        "\n",
        "You can use the `try` and `except` statements to *handle* an exception. Here's an example:"
      ]
    },
    {
      "cell_type": "code",
      "execution_count": null,
      "metadata": {
        "id": "8JNTl00Y-hdJ",
        "outputId": "b3fc8f2d-a3bc-404d-dba2-0f7e0bda0ea2"
      },
      "outputs": [
        {
          "name": "stdout",
          "output_type": "stream",
          "text": [
            "Now computing the result..\n",
            "Failed to compute result because you were trying to divide by zero\n",
            "None\n"
          ]
        }
      ],
      "source": [
        "try:\n",
        "    print(\"Now computing the result..\")\n",
        "    result = 5 / 0\n",
        "    print(\"Computation was completed successfully\")\n",
        "except ZeroDivisionError:\n",
        "    print(\"Failed to compute result because you were trying to divide by zero\")\n",
        "    result = None\n",
        "\n",
        "print(result)"
      ]
    },
    {
      "cell_type": "markdown",
      "metadata": {
        "id": "P5xUZix2-hdO"
      },
      "source": [
        "When an exception occurs inside a `try` block, the block's remaining statements are skipped. The `except` block is executed if the type of exception thrown matches that of the exception being handled. After executing the `except` block, the program execution returns to the normal flow.\n",
        "\n",
        "You can also handle more than one type of exception using multiple `except` statements. Learn more about exceptions here: https://www.w3schools.com/python/python_try_except.asp .\n",
        "\n",
        "Let's enhance the `loan_emi` function to use `try`-`except` to handle the scenario where the interest rate is 0%. It's common practice to make changes/enhancements to functions over time as new scenarios and use cases come up. It makes functions more robust & versatile."
      ]
    },
    {
      "cell_type": "code",
      "execution_count": null,
      "metadata": {
        "id": "5HAb942z-hdR"
      },
      "outputs": [],
      "source": [
        "def loan_emi(amount, duration, rate, down_payment=0):\n",
        "    loan_amount = amount - down_payment\n",
        "    try:\n",
        "        emi = loan_amount * rate * ((1+rate)**duration) / (((1+rate)**duration)-1)\n",
        "    except ZeroDivisionError:\n",
        "        emi = loan_amount / duration\n",
        "    emi = math.ceil(emi)\n",
        "    return emi"
      ]
    },
    {
      "cell_type": "markdown",
      "metadata": {
        "id": "_8mAfUdt-hdU"
      },
      "source": [
        "We can use the updated `loan_emi` function to solve our problem.\n",
        "\n",
        "> **Q**: If you borrow `$100,000` using a 10-year loan with an interest rate of 9% per annum, what is the total amount you end up paying as interest?\n",
        "\n"
      ]
    },
    {
      "cell_type": "code",
      "execution_count": null,
      "metadata": {
        "id": "KNCGYlj1-hdY",
        "outputId": "e94e2e4c-a6c9-4fa9-b584-e86e4f3b9552"
      },
      "outputs": [
        {
          "data": {
            "text/plain": [
              "1267"
            ]
          },
          "execution_count": 48,
          "metadata": {},
          "output_type": "execute_result"
        }
      ],
      "source": [
        "emi_with_interest = loan_emi(amount=100000, duration=10*12, rate=0.09/12)\n",
        "emi_with_interest"
      ]
    },
    {
      "cell_type": "code",
      "execution_count": null,
      "metadata": {
        "id": "gUlRVQ0Z-hdc",
        "outputId": "2949c58a-2bc2-4212-8aea-4d0d19cbe37b"
      },
      "outputs": [
        {
          "data": {
            "text/plain": [
              "834"
            ]
          },
          "execution_count": 49,
          "metadata": {},
          "output_type": "execute_result"
        }
      ],
      "source": [
        "emi_without_interest = loan_emi(amount=100000, duration=10*12, rate=0)\n",
        "emi_without_interest"
      ]
    },
    {
      "cell_type": "code",
      "execution_count": null,
      "metadata": {
        "id": "Bit7kYtK-hdg"
      },
      "outputs": [],
      "source": [
        "total_interest = (emi_with_interest - emi_without_interest) * 10*12"
      ]
    },
    {
      "cell_type": "code",
      "execution_count": null,
      "metadata": {
        "id": "YseuvUb7-hdk",
        "outputId": "46fd46d9-dc1c-466e-fd0f-db31b91b4157"
      },
      "outputs": [
        {
          "name": "stdout",
          "output_type": "stream",
          "text": [
            "The total interest paid is $51960.\n"
          ]
        }
      ],
      "source": [
        "print(\"The total interest paid is ${}.\".format(total_interest))"
      ]
    },
    {
      "cell_type": "markdown",
      "metadata": {
        "id": "A1_vicIz-hdn"
      },
      "source": [
        "### Documenting functions using Docstrings\n",
        "\n",
        "We can add some documentation within our function using a *docstring*. A docstring is simply a string that appears as the first statement within the function body, and is used by the `help` function. A good docstring describes what the function does, and provides some explanation about the arguments."
      ]
    },
    {
      "cell_type": "code",
      "execution_count": null,
      "metadata": {
        "id": "fnoMIVvs-hdq"
      },
      "outputs": [],
      "source": [
        "def loan_emi(amount, duration, rate, down_payment=0):\n",
        "    \"\"\"Calculates the equal montly installment (EMI) for a loan.\n",
        "\n",
        "    Arguments:\n",
        "        amount - Total amount to be spent (loan + down payment)\n",
        "        duration - Duration of the loan (in months)\n",
        "        rate - Rate of interest (monthly)\n",
        "        down_payment (optional) - Optional intial payment (deducted from amount)\n",
        "    \"\"\"\n",
        "    loan_amount = amount - down_payment\n",
        "    try:\n",
        "        emi = loan_amount * rate * ((1+rate)**duration) / (((1+rate)**duration)-1)\n",
        "    except ZeroDivisionError:\n",
        "        emi = loan_amount / duration\n",
        "    emi = math.ceil(emi)\n",
        "    return emi"
      ]
    },
    {
      "cell_type": "markdown",
      "metadata": {
        "id": "T3eKy1qO-hdt"
      },
      "source": [
        "In the docstring above, we've provided some additional information that the `duration` and `rate` are measured in months. You might even consider naming the arguments `duration_months` and `rate_monthly`, to avoid any confusion whatsoever. Can you think of some other ways to improve the function?"
      ]
    },
    {
      "cell_type": "code",
      "execution_count": null,
      "metadata": {
        "id": "uI7t5b5Y-hdw",
        "outputId": "d62b6e65-45aa-4001-bb3c-061d405420e9"
      },
      "outputs": [
        {
          "name": "stdout",
          "output_type": "stream",
          "text": [
            "Help on function loan_emi in module __main__:\n",
            "\n",
            "loan_emi(amount, duration, rate, down_payment=0)\n",
            "    Calculates the equal montly installment (EMI) for a loan.\n",
            "    \n",
            "    Arguments:\n",
            "        amount - Total amount to be spent (loan + down payment)\n",
            "        duration - Duration of the loan (in months)\n",
            "        rate - Rate of interest (monthly)\n",
            "        down_payment (optional) - Optional intial payment (deducted from amount)\n",
            "\n"
          ]
        }
      ],
      "source": [
        "help(loan_emi)"
      ]
    },
    {
      "cell_type": "markdown",
      "metadata": {
        "id": "58yAb2DO-hdz"
      },
      "source": [
        "## Exercise - Data Analysis for Vacation Planning\n",
        "\n",
        "You're planning a vacation, and you need to decide which city you want to visit. You have shortlisted four cities and identified the return flight cost, daily hotel cost, and weekly car rental cost. While renting a car, you need to pay for entire weeks, even if you return the car sooner.\n",
        "\n",
        "\n",
        "| City | Return Flight (`$`) | Hotel per day (`$`) | Weekly Car Rental  (`$`) |\n",
        "|------|--------------------------|------------------|------------------------|\n",
        "| Paris|       200                |       20         |          200           |\n",
        "| London|      250                |       30         |          120           |\n",
        "| Dubai|       370                |       15         |          80           |\n",
        "| Mumbai|      450                |       10         |          70           |         \n",
        "\n",
        "\n",
        "Answer the following questions using the data above:\n",
        "\n",
        "1. If you're planning a 1-week long trip, which city should you visit to spend the least amount of money?\n",
        "2. How does the answer to the previous question change if you change the trip's duration to four days, ten days or two weeks?\n",
        "3. If your total budget for the trip is `$1000`, which city should you visit to maximize the duration of your trip? Which city should you visit if you want to minimize the duration?\n",
        "4. How does the answer to the previous question change if your budget is `$600`, `$2000`, or `$1500`?\n",
        "\n",
        "*Hint: To answer these questions, it will help to define a function `cost_of_trip` with relevant inputs like flight cost, hotel rate, car rental rate, and duration of the trip. You may find the `math.ceil` function useful for calculating the total cost of car rental.*"
      ]
    },
    {
      "cell_type": "code",
      "execution_count": null,
      "metadata": {
        "id": "9q6SIMqI-hd2"
      },
      "outputs": [],
      "source": [
        "# Use these cells to answer the question - build the function step-by-step"
      ]
    },
    {
      "cell_type": "code",
      "execution_count": null,
      "metadata": {
        "id": "EMF8Z3aV-hd5"
      },
      "outputs": [],
      "source": []
    },
    {
      "cell_type": "code",
      "execution_count": null,
      "metadata": {
        "id": "X8nL9a2I-hd8"
      },
      "outputs": [],
      "source": []
    },
    {
      "cell_type": "code",
      "execution_count": null,
      "metadata": {
        "id": "cC4zf49r-hd-"
      },
      "outputs": [],
      "source": []
    },
    {
      "cell_type": "markdown",
      "metadata": {
        "id": "ixBlVjwn-heB"
      },
      "source": [
        "## Summary and Further Reading\n",
        "\n",
        "With this, we complete our discussion of functions in Python. We've covered the following topics in this tutorial:\n",
        "\n",
        "* Creating and using functions\n",
        "* Functions with one or more arguments\n",
        "* Local variables and scope\n",
        "* Returning values using `return`\n",
        "* Using default arguments to make a function flexible\n",
        "* Using named arguments while invoking a function\n",
        "* Importing modules and using library functions\n",
        "* Reusing and improving functions to handle new use cases\n",
        "* Handling exceptions with `try`-`except`\n",
        "* Documenting functions using docstrings\n",
        "\n",
        "This tutorial on functions in Python is by no means exhaustive. Here are a few more topics to learn about:\n",
        "\n",
        "* Functions with an arbitrary number of arguments using (`*args` and `**kwargs`)\n",
        "* Defining functions inside functions (and closures)\n",
        "* A function that invokes itself (recursion)\n",
        "* Functions that accept other functions as arguments or return other functions\n",
        "* Functions that enhance other functions (decorators)\n",
        "\n",
        "Following are some resources to learn about more functions in Python:\n",
        "\n",
        "* Python Tutorial at W3Schools: https://www.w3schools.com/python/\n",
        "* Practical Python Programming: https://dabeaz-course.github.io/practical-python/Notes/Contents.html\n",
        "* Python official documentation: https://docs.python.org/3/tutorial/index.html\n",
        "\n",
        "You are ready to move on to the next tutorial: [\"Reading from and writing to files using Python\"](https://jovian.ml/aakashns/python-os-and-filesystem)."
      ]
    },
    {
      "cell_type": "markdown",
      "metadata": {
        "id": "LslZR91o-heF"
      },
      "source": [
        "## Solution for Exercise"
      ]
    },
    {
      "cell_type": "markdown",
      "metadata": {
        "id": "gJtqi5pA-heI"
      },
      "source": [
        "### Exercise - Data Analysis for Vacation Planning\n",
        "\n",
        "You're planning a vacation, and you need to decide which city you want to visit. You have shortlisted four cities and identified the return flight cost, daily hotel cost, and weekly car rental cost. While renting a car, you need to pay for entire weeks, even if you return the car sooner.\n",
        "\n",
        "\n",
        "| City | Return Flight (`$`) | Hotel per day (`$`) | Weekly Car Rental  (`$`) |\n",
        "|------|--------------------------|------------------|------------------------|\n",
        "| Paris|       200                |       20         |          200           |\n",
        "| London|      250                |       30         |          120           |\n",
        "| Dubai|       370                |       15         |          80           |\n",
        "| Mumbai|      450                |       10         |          70           |         \n",
        "\n",
        "\n",
        "Answer the following questions using the data above:\n",
        "\n",
        "1. If you're planning a 1-week long trip, which city should you visit to spend the least amount of money?\n",
        "2. How does the answer to the previous question change if you change the trip's duration to four days, ten days or two weeks?\n",
        "3. If your total budget for the trip is `$600`, which city should you visit to maximize the duration of your trip? Which city should you visit if you want to minimize the duration?\n",
        "4. How does the answer to the previous question change if your budget is `$1000`, `$2000`, or `$1500`?\n",
        "\n",
        "*Hint: To answer these questions, it will help to define a function `cost_of_trip` with relevant inputs like flight cost, hotel rate, car rental rate, and duration of the trip. You may find the `math.ceil` function useful for calculating the total cost of car rental.*"
      ]
    },
    {
      "cell_type": "code",
      "execution_count": null,
      "metadata": {
        "id": "fUG2VAIg-heM"
      },
      "outputs": [],
      "source": [
        "import math"
      ]
    },
    {
      "cell_type": "code",
      "execution_count": null,
      "metadata": {
        "id": "c8fhXFMN-heP"
      },
      "outputs": [],
      "source": [
        "Paris=[200,20,200,'Paris']\n",
        "London = [250,30,120,'London']\n",
        "Dubai = [370,15,80,'Dubai']\n",
        "Mumbai = [450,10,70,'Mumbai']\n",
        "Cities = [Paris,London,Dubai,Mumbai]"
      ]
    },
    {
      "cell_type": "code",
      "execution_count": null,
      "metadata": {
        "id": "iasnmyLc-heS"
      },
      "outputs": [],
      "source": [
        "def cost_of_trip(flight,hotel_cost,car_rent,num_of_days=0):\n",
        "    return flight+(hotel_cost*num_of_days)+(car_rent*math.ceil(num_of_days/7))"
      ]
    },
    {
      "cell_type": "code",
      "execution_count": null,
      "metadata": {
        "id": "NHMM-LLe-heV"
      },
      "outputs": [],
      "source": [
        "def days_to_visit(days):\n",
        "    costs=[]\n",
        "    for city in Cities:\n",
        "        cost=cost_of_trip(city[0],city[1],city[2],days)\n",
        "        costs.append((cost,city[3]))\n",
        "    min_cost = min(costs)\n",
        "    return min_cost"
      ]
    },
    {
      "cell_type": "markdown",
      "metadata": {
        "id": "v2y-ewMx-heY"
      },
      "source": [
        "> 1. If you're planning a 1-week long trip, which city should you visit to spend the least amount of money?"
      ]
    },
    {
      "cell_type": "code",
      "execution_count": null,
      "metadata": {
        "id": "sS0iV6xk-heb",
        "outputId": "a778e3dd-854b-4d7b-cae8-141e56f44e12"
      },
      "outputs": [
        {
          "data": {
            "text/plain": [
              "(540, 'Paris')"
            ]
          },
          "execution_count": 59,
          "metadata": {},
          "output_type": "execute_result"
        }
      ],
      "source": [
        "days_to_visit(7)"
      ]
    },
    {
      "cell_type": "markdown",
      "metadata": {
        "id": "fMEbyxoo-hef"
      },
      "source": [
        "> 2. How does the answer to the previous question change if you change the trip's duration to four days, ten days or two weeks?"
      ]
    },
    {
      "cell_type": "code",
      "execution_count": null,
      "metadata": {
        "id": "jLudRJCA-hei",
        "outputId": "5cf90c49-d514-446e-cb84-3e7c0deb2780"
      },
      "outputs": [
        {
          "data": {
            "text/plain": [
              "(480, 'Paris')"
            ]
          },
          "execution_count": 60,
          "metadata": {},
          "output_type": "execute_result"
        }
      ],
      "source": [
        "days_to_visit(4)"
      ]
    },
    {
      "cell_type": "code",
      "execution_count": null,
      "metadata": {
        "id": "g3oSVrLe-hem",
        "outputId": "0f97232d-dd6a-4dbb-b731-cebc96a44522"
      },
      "outputs": [
        {
          "data": {
            "text/plain": [
              "(680, 'Dubai')"
            ]
          },
          "execution_count": 61,
          "metadata": {},
          "output_type": "execute_result"
        }
      ],
      "source": [
        "days_to_visit(10)"
      ]
    },
    {
      "cell_type": "code",
      "execution_count": null,
      "metadata": {
        "id": "v5r0Iwy_-hep",
        "outputId": "8611f0b1-1843-4fd5-d3b9-f5630ae74885"
      },
      "outputs": [
        {
          "data": {
            "text/plain": [
              "(730, 'Mumbai')"
            ]
          },
          "execution_count": 62,
          "metadata": {},
          "output_type": "execute_result"
        }
      ],
      "source": [
        "days_to_visit(14)"
      ]
    },
    {
      "cell_type": "markdown",
      "metadata": {
        "id": "jM46kqCU-het"
      },
      "source": [
        "> 3. If your total budget for the trip is `$600`, which city should you visit to maximize the duration of your trip? Which city should you visit if you want to minimize the duration?"
      ]
    },
    {
      "cell_type": "code",
      "execution_count": null,
      "metadata": {
        "id": "6jheze3l-hew"
      },
      "outputs": [],
      "source": [
        "def given_budget(budget,less_days=False):\n",
        "    days=1\n",
        "    cost=0\n",
        "    while cost<budget:\n",
        "        #copy of city cost\n",
        "        cost_before=cost\n",
        "        try:\n",
        "            #copy of costs dictionary, if exists\n",
        "            costs_before=costs.copy()\n",
        "        except:\n",
        "            #if costs dictionary doesn't exist, create an empty dictionary\n",
        "            costs_before={}\n",
        "        costs={}\n",
        "        for city in Cities:\n",
        "            cost = cost_of_trip(city[0],city[1],city[2],days)\n",
        "            costs[cost] = city[3]\n",
        "        if less_days:\n",
        "            cost=max(list(costs.keys()))\n",
        "            ''' The while loop breaks only after cost>600 condition is met.\n",
        "            when the condition is met, the costs dictionary updates to values that are greater than 600\n",
        "            so we check if it is exceeding, if it does, we return the values from the previous dictionary cost_before. '''\n",
        "            if cost>=budget:\n",
        "                return costs_before[cost_before],days-1\n",
        "        else:\n",
        "            cost=min(list(costs.keys()))\n",
        "            if cost>=budget:\n",
        "                return costs_before[cost_before],days-1\n",
        "        days+=1"
      ]
    },
    {
      "cell_type": "code",
      "execution_count": null,
      "metadata": {
        "id": "3JJMYP0B-he0"
      },
      "outputs": [],
      "source": [
        "city_to_stay_maximum_days=given_budget(600)"
      ]
    },
    {
      "cell_type": "code",
      "execution_count": null,
      "metadata": {
        "id": "1Jk1PQYH-he3",
        "outputId": "a8dbdba3-1cc5-4839-e52e-12e1f514883e"
      },
      "outputs": [
        {
          "name": "stdout",
          "output_type": "stream",
          "text": [
            "('Paris', 7)\n"
          ]
        }
      ],
      "source": [
        "print(city_to_stay_maximum_days)"
      ]
    },
    {
      "cell_type": "code",
      "execution_count": null,
      "metadata": {
        "id": "srO1nxor-he7"
      },
      "outputs": [],
      "source": [
        "city_to_stay_minimum_days=given_budget(600,less_days=True)"
      ]
    },
    {
      "cell_type": "code",
      "execution_count": null,
      "metadata": {
        "id": "VFGK0OB7-he-",
        "outputId": "243c636c-9a1d-4152-866a-b5b95a9164f2"
      },
      "outputs": [
        {
          "name": "stdout",
          "output_type": "stream",
          "text": [
            "('Mumbai', 7)\n"
          ]
        }
      ],
      "source": [
        "print(city_to_stay_minimum_days)"
      ]
    },
    {
      "cell_type": "markdown",
      "metadata": {
        "id": "dxqA9AqT-hfC"
      },
      "source": [
        "> 4. How does the answer to the previous question change if your budget is `$1000`, `$2000`, or `$1500`?"
      ]
    },
    {
      "cell_type": "markdown",
      "metadata": {
        "id": "0MLIn9m8-hfE"
      },
      "source": [
        "- For 1000 dollars"
      ]
    },
    {
      "cell_type": "code",
      "execution_count": null,
      "metadata": {
        "id": "o5TLdlpO-hfH",
        "outputId": "54bc6c00-8765-4e98-ad35-a16dce636685"
      },
      "outputs": [
        {
          "name": "stdout",
          "output_type": "stream",
          "text": [
            "('Mumbai', 26)\n"
          ]
        }
      ],
      "source": [
        "city_to_stay_maximum_days=given_budget(1000)\n",
        "print(city_to_stay_maximum_days)"
      ]
    },
    {
      "cell_type": "code",
      "execution_count": null,
      "metadata": {
        "id": "zW5Rq8fj-hfK",
        "outputId": "f82490cd-2382-4233-8557-45fa98f6184c"
      },
      "outputs": [
        {
          "name": "stdout",
          "output_type": "stream",
          "text": [
            "('London', 14)\n"
          ]
        }
      ],
      "source": [
        "city_to_stay_minimum_days=given_budget(1000,less_days=True)\n",
        "print(city_to_stay_minimum_days)"
      ]
    },
    {
      "cell_type": "markdown",
      "metadata": {
        "id": "dVJOunwm-hfO"
      },
      "source": [
        "- For 2000 dollars"
      ]
    },
    {
      "cell_type": "code",
      "execution_count": null,
      "metadata": {
        "id": "q_LYJN6b-hfQ",
        "outputId": "4309a11e-015c-42d4-a73d-1ea357538346"
      },
      "outputs": [
        {
          "name": "stdout",
          "output_type": "stream",
          "text": [
            "('Mumbai', 77)\n"
          ]
        }
      ],
      "source": [
        "city_to_stay_maximum_days=given_budget(2000)\n",
        "print(city_to_stay_maximum_days)"
      ]
    },
    {
      "cell_type": "code",
      "execution_count": null,
      "metadata": {
        "id": "7SWls9yu-hfT",
        "outputId": "b7fa74f1-d57e-462b-ba19-148bc9d36081"
      },
      "outputs": [
        {
          "name": "stdout",
          "output_type": "stream",
          "text": [
            "('London', 35)\n"
          ]
        }
      ],
      "source": [
        "city_to_stay_minimum=given_budget(2000,less_days=True)\n",
        "print(city_to_stay_minimum)"
      ]
    },
    {
      "cell_type": "markdown",
      "metadata": {
        "id": "3s-RYGRQ-hfX"
      },
      "source": [
        "- For 1500 dollars"
      ]
    },
    {
      "cell_type": "code",
      "execution_count": null,
      "metadata": {
        "id": "akd06yDZ-hfZ",
        "outputId": "5f8595da-3941-459b-d898-025210a3b881"
      },
      "outputs": [
        {
          "name": "stdout",
          "output_type": "stream",
          "text": [
            "('Mumbai', 49)\n"
          ]
        }
      ],
      "source": [
        "city_to_stay_maximum_days=given_budget(1500)\n",
        "print(city_to_stay_maximum_days)"
      ]
    },
    {
      "cell_type": "code",
      "execution_count": null,
      "metadata": {
        "id": "R75H1r_r-hfd",
        "outputId": "75ddc99a-c792-4dd3-ec65-79a951666a36"
      },
      "outputs": [
        {
          "name": "stdout",
          "output_type": "stream",
          "text": [
            "('Paris', 24)\n"
          ]
        }
      ],
      "source": [
        "city_to_stay_minimum_days=given_budget(1500,less_days=True)\n",
        "print(city_to_stay_minimum_days)"
      ]
    },
    {
      "cell_type": "code",
      "execution_count": null,
      "metadata": {
        "id": "-vaiI9Cx-hfg"
      },
      "outputs": [],
      "source": []
    },
    {
      "cell_type": "code",
      "execution_count": null,
      "metadata": {
        "id": "SwD4TCpt-hfi"
      },
      "outputs": [],
      "source": []
    }
  ],
  "metadata": {
    "kernelspec": {
      "display_name": "Python 3 (ipykernel)",
      "language": "python",
      "name": "python3"
    },
    "language_info": {
      "codemirror_mode": {
        "name": "ipython",
        "version": 3
      },
      "file_extension": ".py",
      "mimetype": "text/x-python",
      "name": "python",
      "nbconvert_exporter": "python",
      "pygments_lexer": "ipython3",
      "version": "3.9.15"
    },
    "colab": {
      "provenance": [],
      "include_colab_link": true
    }
  },
  "nbformat": 4,
  "nbformat_minor": 0
}