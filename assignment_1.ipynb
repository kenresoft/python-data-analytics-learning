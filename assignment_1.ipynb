{
 "cells": [
  {
   "cell_type": "markdown",
   "id": "d6a3decc",
   "metadata": {},
   "source": [
    "# EXERCISE ONE: FIRST STEPS IN PYTHON\n",
    "\n",
    "* **Name:** Amadi Kennth Kachukwuside\n",
    "* **Class:** Introduction to programming. \n",
    "* **Group:** B"
   ]
  },
  {
   "cell_type": "markdown",
   "id": "f2767302",
   "metadata": {},
   "source": [
    "---\n",
    "## Question 1\n",
    "--- \n",
    "> In 2015, a farmer made sales of 120,000 naira. This sales was from cassava which had 70,000\n",
    "naira, maize which has 25,000 and plantain. if he invested 90000 and maize accounted for 30%\n",
    "percent of his profit. Using multistep approach write a python code that answers the following\n",
    "questions.\n",
    "\n",
    "> **a.** What is the overall profit?\n",
    "\n",
    "> **b.** What is the profit of cassava and plaintain?\n",
    "\n",
    "> **c.** With a tax of 5% on the sales what is the net profit?"
   ]
  },
  {
   "cell_type": "markdown",
   "id": "627e6c29",
   "metadata": {},
   "source": [
    "## Solutions "
   ]
  },
  {
   "cell_type": "markdown",
   "id": "d36161b5",
   "metadata": {},
   "source": [
    "##### Information Provided"
   ]
  },
  {
   "cell_type": "code",
   "execution_count": 1,
   "id": "344a73e8",
   "metadata": {},
   "outputs": [],
   "source": [
    "# Declaring our variables\n",
    "\n",
    "total_sales = 120000\n",
    "sales_from_cassava = 70000\n",
    "sales_from_maize = 25000\n",
    "\n",
    "investment = 90000\n",
    "tax_rate = 0.05\n",
    "profit_rate_from_maize = 0.3"
   ]
  },
  {
   "cell_type": "code",
   "execution_count": 2,
   "id": "0369ba60",
   "metadata": {},
   "outputs": [],
   "source": [
    "# Finding the unknown sales from plantain\n",
    "sales_from_plantain = total_sales - (sales_from_cassava + sales_from_maize)"
   ]
  },
  {
   "cell_type": "code",
   "execution_count": 3,
   "id": "41397ce4",
   "metadata": {},
   "outputs": [
    {
     "data": {
      "text/plain": [
       "25000"
      ]
     },
     "execution_count": 3,
     "metadata": {},
     "output_type": "execute_result"
    }
   ],
   "source": [
    "sales_from_plantain"
   ]
  },
  {
   "cell_type": "markdown",
   "id": "9b3ddd3a",
   "metadata": {},
   "source": [
    "## Question 1(a) : \n",
    "##### What is the overall profit?"
   ]
  },
  {
   "cell_type": "code",
   "execution_count": 4,
   "id": "4fdcb028",
   "metadata": {},
   "outputs": [],
   "source": [
    "# To find overal profit\n",
    "overal_profit = total_sales - investment"
   ]
  },
  {
   "cell_type": "code",
   "execution_count": 5,
   "id": "aad69140",
   "metadata": {},
   "outputs": [
    {
     "data": {
      "text/plain": [
       "30000"
      ]
     },
     "execution_count": 5,
     "metadata": {},
     "output_type": "execute_result"
    }
   ],
   "source": [
    "overal_profit"
   ]
  },
  {
   "cell_type": "markdown",
   "id": "cb10a8af",
   "metadata": {},
   "source": [
    "## Question 1(b) : \n",
    "##### What is the profit of cassava and plaintain?"
   ]
  },
  {
   "cell_type": "code",
   "execution_count": 6,
   "id": "f9b6f6f5",
   "metadata": {},
   "outputs": [],
   "source": [
    "# Calculating profit per food stuff sold\n",
    "profit_from_maize = profit_rate_from_maize * overal_profit"
   ]
  },
  {
   "cell_type": "code",
   "execution_count": 7,
   "id": "fc2324ab",
   "metadata": {},
   "outputs": [
    {
     "data": {
      "text/plain": [
       "9000.0"
      ]
     },
     "execution_count": 7,
     "metadata": {},
     "output_type": "execute_result"
    }
   ],
   "source": [
    "profit_from_maize"
   ]
  },
  {
   "cell_type": "code",
   "execution_count": 8,
   "id": "6651598b",
   "metadata": {},
   "outputs": [],
   "source": [
    "# Calculating for profit from cassava and plantain\n",
    "profit_from_cassava_and_plantain = overal_profit - profit_from_maize"
   ]
  },
  {
   "cell_type": "code",
   "execution_count": 9,
   "id": "2834f155",
   "metadata": {},
   "outputs": [
    {
     "data": {
      "text/plain": [
       "21000.0"
      ]
     },
     "execution_count": 9,
     "metadata": {},
     "output_type": "execute_result"
    }
   ],
   "source": [
    "profit_from_cassava_and_plantain"
   ]
  },
  {
   "cell_type": "markdown",
   "id": "8056855a",
   "metadata": {},
   "source": [
    "## Question 1(c) : \n",
    "##### With a tax of 5% on the sales what is the net profit?"
   ]
  },
  {
   "cell_type": "code",
   "execution_count": 10,
   "id": "4b8b0458",
   "metadata": {},
   "outputs": [],
   "source": [
    "# Calculating for tax on the sales made\n",
    "tax_on_sales = tax_rate * total_sales"
   ]
  },
  {
   "cell_type": "code",
   "execution_count": 11,
   "id": "fc280a7d",
   "metadata": {},
   "outputs": [
    {
     "data": {
      "text/plain": [
       "6000.0"
      ]
     },
     "execution_count": 11,
     "metadata": {},
     "output_type": "execute_result"
    }
   ],
   "source": [
    "tax_on_sales"
   ]
  },
  {
   "cell_type": "code",
   "execution_count": 12,
   "id": "beb64f10",
   "metadata": {},
   "outputs": [],
   "source": [
    "# Finding the net profit made by the farmer\n",
    "net_profit = overal_profit - tax_on_sales"
   ]
  },
  {
   "cell_type": "code",
   "execution_count": 13,
   "id": "723723f2",
   "metadata": {},
   "outputs": [
    {
     "data": {
      "text/plain": [
       "24000.0"
      ]
     },
     "execution_count": 13,
     "metadata": {},
     "output_type": "execute_result"
    }
   ],
   "source": [
    "net_profit"
   ]
  },
  {
   "cell_type": "markdown",
   "id": "da382dec",
   "metadata": {},
   "source": [
    "---\n",
    "## Question 2\n",
    "--- \n",
    "> What is the output of the following code?(type them into jupyter line by line)\n",
    "\n",
    "> `var1 = 1`\n",
    "\n",
    "> `var2 = 2`\n",
    "\n",
    "> `var3 = \"3\"`\n",
    "\n",
    "> `print(var1 + var2 + var3)`\n",
    "\n",
    "> if there is any error explain the reason for it."
   ]
  },
  {
   "cell_type": "markdown",
   "id": "093c29e0",
   "metadata": {},
   "source": [
    "## Solutions "
   ]
  },
  {
   "cell_type": "code",
   "execution_count": 14,
   "id": "4f1951bb",
   "metadata": {},
   "outputs": [],
   "source": [
    "var1 = 1"
   ]
  },
  {
   "cell_type": "code",
   "execution_count": 15,
   "id": "a80eac46",
   "metadata": {},
   "outputs": [],
   "source": [
    "var2 = 2"
   ]
  },
  {
   "cell_type": "code",
   "execution_count": 16,
   "id": "214abe65",
   "metadata": {},
   "outputs": [],
   "source": [
    "var3 = \"3\""
   ]
  },
  {
   "cell_type": "code",
   "execution_count": 17,
   "id": "699bacf9",
   "metadata": {},
   "outputs": [
    {
     "ename": "TypeError",
     "evalue": "unsupported operand type(s) for +: 'int' and 'str'",
     "output_type": "error",
     "traceback": [
      "\u001b[1;31m---------------------------------------------------------------------------\u001b[0m",
      "\u001b[1;31mTypeError\u001b[0m                                 Traceback (most recent call last)",
      "Cell \u001b[1;32mIn[17], line 1\u001b[0m\n\u001b[1;32m----> 1\u001b[0m \u001b[38;5;28mprint\u001b[39m(\u001b[43mvar1\u001b[49m\u001b[43m \u001b[49m\u001b[38;5;241;43m+\u001b[39;49m\u001b[43m \u001b[49m\u001b[43mvar2\u001b[49m\u001b[43m \u001b[49m\u001b[38;5;241;43m+\u001b[39;49m\u001b[43m \u001b[49m\u001b[43mvar3\u001b[49m)\n",
      "\u001b[1;31mTypeError\u001b[0m: unsupported operand type(s) for +: 'int' and 'str'"
     ]
    }
   ],
   "source": [
    "print(var1 + var2 + var3)"
   ]
  },
  {
   "cell_type": "markdown",
   "id": "797dbd3e",
   "metadata": {},
   "source": [
    "### Explanation and solution to the error"
   ]
  },
  {
   "cell_type": "markdown",
   "id": "b5832586",
   "metadata": {},
   "source": [
    "This error occurs because the print() function expects the arguments to be of the same type. \n",
    "\n",
    "In this case, `var1` and `var2` are integers, but `var3` is a string. \n",
    "\n",
    "To fix the error, you would need to change the type of `var3` to an integer."
   ]
  },
  {
   "cell_type": "code",
   "execution_count": 18,
   "id": "662aecd0",
   "metadata": {},
   "outputs": [],
   "source": [
    "var3 = 3"
   ]
  },
  {
   "cell_type": "code",
   "execution_count": 19,
   "id": "17ea6dfd",
   "metadata": {},
   "outputs": [
    {
     "name": "stdout",
     "output_type": "stream",
     "text": [
      "6\n"
     ]
    }
   ],
   "source": [
    "print(var1 + var2 + var3)"
   ]
  },
  {
   "cell_type": "markdown",
   "id": "b5977aa5",
   "metadata": {},
   "source": [
    "---\n",
    "## Question 3\n",
    "--- \n",
    "> Run the code below\n",
    "\n",
    "> `This is a comment`\n",
    "\n",
    "> `written in`\n",
    "\n",
    "> `more than just one line`\n",
    "\n",
    "> `print(' The above is a multiline comment')`\n",
    "\n",
    "> did you encounter error? use multiline comment and comment out the letters in bold."
   ]
  },
  {
   "cell_type": "markdown",
   "id": "e56eabb6",
   "metadata": {},
   "source": [
    "## Solutions "
   ]
  },
  {
   "cell_type": "code",
   "execution_count": 20,
   "id": "bb8a3b07",
   "metadata": {},
   "outputs": [
    {
     "ename": "SyntaxError",
     "evalue": "invalid syntax (2793172815.py, line 1)",
     "output_type": "error",
     "traceback": [
      "\u001b[1;36m  Cell \u001b[1;32mIn[20], line 1\u001b[1;36m\u001b[0m\n\u001b[1;33m    This is a comment\u001b[0m\n\u001b[1;37m              ^\u001b[0m\n\u001b[1;31mSyntaxError\u001b[0m\u001b[1;31m:\u001b[0m invalid syntax\n"
     ]
    }
   ],
   "source": [
    "This is a comment\n",
    "\n",
    "written in\n",
    "\n",
    "more than just one line\n",
    "\n",
    "print(' The above is a multiline comment')"
   ]
  },
  {
   "cell_type": "markdown",
   "id": "05aa3920",
   "metadata": {},
   "source": [
    "The code will encounter a syntax error. \n",
    "This is because, the `This is a comment written in more than just one line` statement is not valid Python code. "
   ]
  },
  {
   "cell_type": "code",
   "execution_count": 21,
   "id": "d21a2162",
   "metadata": {},
   "outputs": [
    {
     "name": "stdout",
     "output_type": "stream",
     "text": [
      " The above is a multiline comment\n"
     ]
    }
   ],
   "source": [
    "'''This is a comment\n",
    "\n",
    "written in\n",
    "\n",
    "more than just one line'''\n",
    "\n",
    "print(' The above is a multiline comment')"
   ]
  },
  {
   "cell_type": "markdown",
   "id": "aa55b61b",
   "metadata": {},
   "source": [
    "---\n",
    "## Question 4\n",
    "--- \n",
    "> Declare the following variables\n",
    "\n",
    "> `height = 34`\n",
    "\n",
    "> `men = 20`\n",
    "\n",
    "> `age = 16`\n",
    "\n",
    "> `gender = 'males'`\n",
    "##### \n",
    "> Answer the following questions with python logical and conditional operators\n",
    "\n",
    "> **a.** Are men less than 20 and age equal to 15?\n",
    "\n",
    "> **b.** Is gender equal to 'Females' and men greater 30\n",
    "\n",
    "> **c.** Height is equal to 34 or age less than 10"
   ]
  },
  {
   "cell_type": "markdown",
   "id": "281d4140",
   "metadata": {},
   "source": [
    "## Solutions "
   ]
  },
  {
   "cell_type": "code",
   "execution_count": 22,
   "id": "4700a30f",
   "metadata": {},
   "outputs": [],
   "source": [
    "height = 34"
   ]
  },
  {
   "cell_type": "code",
   "execution_count": 23,
   "id": "6af9268c",
   "metadata": {},
   "outputs": [],
   "source": [
    "men = 20"
   ]
  },
  {
   "cell_type": "code",
   "execution_count": 24,
   "id": "3a4b7faa",
   "metadata": {},
   "outputs": [],
   "source": [
    "age = 16"
   ]
  },
  {
   "cell_type": "code",
   "execution_count": 25,
   "id": "b43da37b",
   "metadata": {},
   "outputs": [],
   "source": [
    "gender = 'males'"
   ]
  },
  {
   "cell_type": "code",
   "execution_count": 26,
   "id": "e6781bf4",
   "metadata": {},
   "outputs": [
    {
     "data": {
      "text/plain": [
       "False"
      ]
     },
     "execution_count": 26,
     "metadata": {},
     "output_type": "execute_result"
    }
   ],
   "source": [
    "men < 20 and age == 15"
   ]
  },
  {
   "cell_type": "code",
   "execution_count": 27,
   "id": "0c578770",
   "metadata": {},
   "outputs": [
    {
     "data": {
      "text/plain": [
       "False"
      ]
     },
     "execution_count": 27,
     "metadata": {},
     "output_type": "execute_result"
    }
   ],
   "source": [
    "gender == 'Females' and men > 30"
   ]
  },
  {
   "cell_type": "code",
   "execution_count": 28,
   "id": "de21471e",
   "metadata": {},
   "outputs": [
    {
     "data": {
      "text/plain": [
       "True"
      ]
     },
     "execution_count": 28,
     "metadata": {},
     "output_type": "execute_result"
    }
   ],
   "source": [
    "height == 34 or age < 10"
   ]
  },
  {
   "cell_type": "markdown",
   "id": "bfb54d21",
   "metadata": {},
   "source": [
    "### The end"
   ]
  },
  {
   "cell_type": "code",
   "execution_count": null,
   "id": "7bc4f847",
   "metadata": {},
   "outputs": [],
   "source": []
  }
 ],
 "metadata": {
  "kernelspec": {
   "display_name": "Python 3 (ipykernel)",
   "language": "python",
   "name": "python3"
  },
  "language_info": {
   "codemirror_mode": {
    "name": "ipython",
    "version": 3
   },
   "file_extension": ".py",
   "mimetype": "text/x-python",
   "name": "python",
   "nbconvert_exporter": "python",
   "pygments_lexer": "ipython3",
   "version": "3.10.9"
  }
 },
 "nbformat": 4,
 "nbformat_minor": 5
}
